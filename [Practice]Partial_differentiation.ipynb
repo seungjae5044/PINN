{
 "cells": [
  {
   "cell_type": "code",
   "execution_count": 3,
   "id": "8b632883-9f20-4e5b-bf04-455f299cea90",
   "metadata": {},
   "outputs": [
    {
     "name": "stdout",
     "output_type": "stream",
     "text": [
      "tensor([[ 4., 27.],\n",
      "        [ 6., 48.]], grad_fn=<AddBackward0>)\n",
      "tensor([[ 2., 18.],\n",
      "        [ 2., 24.]], grad_fn=<AddBackward0>)\n",
      "df/dx = tensor([[4.],\n",
      "        [6.]], grad_fn=<SliceBackward0>)\n",
      "df/dy = tensor([[27.],\n",
      "        [48.]], grad_fn=<SliceBackward0>)\n"
     ]
    }
   ],
   "source": [
    "import torch\n",
    "\n",
    "# 입력 텐서 (requires_grad=True)\n",
    "inputs = torch.tensor([[2.0, 3.0],[3.0, 4.0]], requires_grad=True)\n",
    "\n",
    "x = inputs[:,0:1]\n",
    "y = inputs[:,1:2]\n",
    "\n",
    "# 함수 정의 f(x, y) = x^2 + y^3\n",
    "f = inputs[:,0:1]**2 +inputs[:,1:2]**3\n",
    "\n",
    "# f를 inputs에 대해 각각 편미분\n",
    "grad_1st_order = torch.autograd.grad(outputs=f, inputs=inputs, grad_outputs=torch.ones_like(f), create_graph=True)[0]\n",
    "grad_2nd_order= torch.autograd.grad(outputs=grad_1st_order, inputs=inputs, grad_outputs=torch.ones_like(grad_1st_order), create_graph=True)[0]\n",
    "\n",
    "print(grad_1st_order)\n",
    "print(grad_2nd_order)\n",
    "print(f'df/dx = {grad_1st_order[:,0:1]}')  # df/dx = 4.0\n",
    "print(f'df/dy = {grad_1st_order[:,1:2]}')  # df/dy = 27.0"
   ]
  }
 ],
 "metadata": {
  "kernelspec": {
   "display_name": "Python 3 (ipykernel)",
   "language": "python",
   "name": "python3"
  },
  "language_info": {
   "codemirror_mode": {
    "name": "ipython",
    "version": 3
   },
   "file_extension": ".py",
   "mimetype": "text/x-python",
   "name": "python",
   "nbconvert_exporter": "python",
   "pygments_lexer": "ipython3",
   "version": "3.12.7"
  }
 },
 "nbformat": 4,
 "nbformat_minor": 5
}
